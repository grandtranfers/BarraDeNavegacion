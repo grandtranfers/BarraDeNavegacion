{
  "nbformat": 4,
  "nbformat_minor": 0,
  "metadata": {
    "colab": {
      "provenance": [],
      "authorship_tag": "ABX9TyMq045qJifAPpao9mehf1Y5",
      "include_colab_link": true
    },
    "kernelspec": {
      "name": "python3",
      "display_name": "Python 3"
    },
    "language_info": {
      "name": "python"
    }
  },
  "cells": [
    {
      "cell_type": "markdown",
      "metadata": {
        "id": "view-in-github",
        "colab_type": "text"
      },
      "source": [
        "<a href=\"https://colab.research.google.com/github/grandtranfers/BarraDeNavegacion/blob/main/PySpark_To_Do.ipynb\" target=\"_parent\"><img src=\"https://colab.research.google.com/assets/colab-badge.svg\" alt=\"Open In Colab\"/></a>"
      ]
    },
    {
      "cell_type": "code",
      "execution_count": 4,
      "metadata": {
        "colab": {
          "base_uri": "https://localhost:8080/"
        },
        "id": "sKmkA6dVMvUH",
        "outputId": "e7c780cb-6214-45cb-bdca-e53d4176be6d"
      },
      "outputs": [
        {
          "output_type": "stream",
          "name": "stdout",
          "text": [
            "\r0% [Working]\r            \rGet:1 https://cloud.r-project.org/bin/linux/ubuntu jammy-cran40/ InRelease [3,626 B]\n",
            "Get:2 https://developer.download.nvidia.com/compute/cuda/repos/ubuntu2204/x86_64  InRelease [1,581 B]\n",
            "Get:3 https://cloud.r-project.org/bin/linux/ubuntu jammy-cran40/ Packages [47.2 kB]\n",
            "Hit:4 http://archive.ubuntu.com/ubuntu jammy InRelease\n",
            "Get:5 http://security.ubuntu.com/ubuntu jammy-security InRelease [110 kB]\n",
            "Get:6 https://developer.download.nvidia.com/compute/cuda/repos/ubuntu2204/x86_64  Packages [632 kB]\n",
            "Get:7 http://archive.ubuntu.com/ubuntu jammy-updates InRelease [119 kB]\n",
            "Get:8 https://ppa.launchpadcontent.net/c2d4u.team/c2d4u4.0+/ubuntu jammy InRelease [18.1 kB]\n",
            "Hit:9 https://ppa.launchpadcontent.net/deadsnakes/ppa/ubuntu jammy InRelease\n",
            "Get:10 http://security.ubuntu.com/ubuntu jammy-security/universe amd64 Packages [1,016 kB]\n",
            "Hit:11 http://archive.ubuntu.com/ubuntu jammy-backports InRelease\n",
            "Get:12 https://ppa.launchpadcontent.net/graphics-drivers/ppa/ubuntu jammy InRelease [24.3 kB]\n",
            "Hit:13 https://ppa.launchpadcontent.net/ubuntugis/ppa/ubuntu jammy InRelease\n",
            "Get:14 https://ppa.launchpadcontent.net/c2d4u.team/c2d4u4.0+/ubuntu jammy/main Sources [2,244 kB]\n",
            "Get:15 http://archive.ubuntu.com/ubuntu jammy-updates/main amd64 Packages [1,521 kB]\n",
            "Get:16 http://security.ubuntu.com/ubuntu jammy-security/main amd64 Packages [1,250 kB]\n",
            "Get:17 http://security.ubuntu.com/ubuntu jammy-security/restricted amd64 Packages [1,472 kB]\n",
            "Get:18 https://ppa.launchpadcontent.net/c2d4u.team/c2d4u4.0+/ubuntu jammy/main amd64 Packages [1,152 kB]\n",
            "Get:19 http://archive.ubuntu.com/ubuntu jammy-updates/restricted amd64 Packages [1,498 kB]\n",
            "Get:20 http://archive.ubuntu.com/ubuntu jammy-updates/universe amd64 Packages [1,284 kB]\n",
            "Get:21 https://ppa.launchpadcontent.net/graphics-drivers/ppa/ubuntu jammy/main amd64 Packages [39.5 kB]\n",
            "Fetched 12.4 MB in 3s (4,952 kB/s)\n",
            "Reading package lists... Done\n"
          ]
        }
      ],
      "source": [
        "!apt-get update"
      ]
    },
    {
      "cell_type": "code",
      "source": [
        "# install java\n",
        "!apt-get install openjdk-8-jdk-headless -qq > /dev/null"
      ],
      "metadata": {
        "id": "2FzqwgKTNONt"
      },
      "execution_count": 5,
      "outputs": []
    },
    {
      "cell_type": "code",
      "source": [
        "# install spark (change the version number if needed)\n",
        "!wget -q https://archive.apache.org/dist/spark/spark-3.0.0/spark-3.0.0-bin-hadoop3.2.tgz"
      ],
      "metadata": {
        "id": "PhXzfbfdNThj"
      },
      "execution_count": 6,
      "outputs": []
    },
    {
      "cell_type": "code",
      "source": [
        "# unzip the spark file to the current folder\n",
        "!tar xf spark-3.0.0-bin-hadoop3.2.tgz"
      ],
      "metadata": {
        "id": "1unqnGtjNcuV"
      },
      "execution_count": 7,
      "outputs": []
    },
    {
      "cell_type": "code",
      "source": [
        "# set your spark folder to your system path environment.\n",
        "import os\n",
        "os.environ[\"JAVA_HOME\"] = \"/usr/lib/jvm/java-8-openjdk-amd64\"\n",
        "os.environ[\"SPARK_HOME\"] = \"/content/spark-3.0.0-bin-hadoop3.2\""
      ],
      "metadata": {
        "id": "eSGO2DGJNkwt"
      },
      "execution_count": 8,
      "outputs": []
    },
    {
      "cell_type": "code",
      "source": [
        "# install findspark using pip\n",
        "!pip install -q findspark"
      ],
      "metadata": {
        "id": "COlzQZR0Nq67"
      },
      "execution_count": 9,
      "outputs": []
    },
    {
      "cell_type": "code",
      "source": [
        "import findspark\n",
        "findspark.init()\n",
        "\n",
        "from pyspark.sql import SparkSession\n",
        "spark = SparkSession.builder.master(\"local[*]\").getOrCreate()\n",
        "\n"
      ],
      "metadata": {
        "id": "u9_QvuLZNxpd"
      },
      "execution_count": 10,
      "outputs": []
    },
    {
      "cell_type": "code",
      "source": [
        "from pyspark.sql import SparkSession\n",
        "from pyspark.sql import SQLContext"
      ],
      "metadata": {
        "id": "e-p7fPtyN2x5"
      },
      "execution_count": 11,
      "outputs": []
    },
    {
      "cell_type": "code",
      "source": [
        "spark = SparkSession.builder.appName(\"Test_spark\").master(\"local[*]\").getOrCreate()\n",
        "sqlCtx = SQLContext(sparkContext=spark.sparkContext, sparkSession=spark)\n",
        "spark"
      ],
      "metadata": {
        "colab": {
          "base_uri": "https://localhost:8080/",
          "height": 219
        },
        "id": "3MH1644VN6DT",
        "outputId": "f7067d04-f61d-4920-93c3-d92cbbeea5fe"
      },
      "execution_count": 12,
      "outputs": [
        {
          "output_type": "execute_result",
          "data": {
            "text/plain": [
              "<pyspark.sql.session.SparkSession at 0x7be8e570e320>"
            ],
            "text/html": [
              "\n",
              "            <div>\n",
              "                <p><b>SparkSession - in-memory</b></p>\n",
              "                \n",
              "        <div>\n",
              "            <p><b>SparkContext</b></p>\n",
              "\n",
              "            <p><a href=\"http://fe4797b40f77:4040\">Spark UI</a></p>\n",
              "\n",
              "            <dl>\n",
              "              <dt>Version</dt>\n",
              "                <dd><code>v3.0.0</code></dd>\n",
              "              <dt>Master</dt>\n",
              "                <dd><code>local[*]</code></dd>\n",
              "              <dt>AppName</dt>\n",
              "                <dd><code>pyspark-shell</code></dd>\n",
              "            </dl>\n",
              "        </div>\n",
              "        \n",
              "            </div>\n",
              "        "
            ]
          },
          "metadata": {},
          "execution_count": 12
        }
      ]
    },
    {
      "cell_type": "markdown",
      "source": [
        "Crea un dataframe con esquema de una tabla de clientes con 5 registros. Columnas obligatorias, nombre, edad, ciudad de origen y saldo. Puedes añadir las que consideres necesarias"
      ],
      "metadata": {
        "id": "mJ7yBQGVOdg7"
      }
    },
    {
      "cell_type": "code",
      "source": [
        "data = [('luis',51,'Talara',5000),\n",
        "        ('Andrea',14,'Piura',6200),\n",
        "        ('Karina',43,'Colombia',7600),\n",
        "        ('Patricia',55,'Supe',5750),\n",
        "        ('Miguel',37,'Trujillo',2500),\n",
        "        ('Andrea',45,'Arequipa',4500),\n",
        "         ('Carlos',43,'Ayacucho',12000)]\n",
        "\n",
        "columns=['Nombre','Edad','Ciudad','Saldo']"
      ],
      "metadata": {
        "id": "9VA5nqMkT64f"
      },
      "execution_count": 15,
      "outputs": []
    },
    {
      "cell_type": "markdown",
      "source": [
        "Crea el dataframe"
      ],
      "metadata": {
        "id": "NThC743dPglx"
      }
    },
    {
      "cell_type": "code",
      "source": [
        "df=spark.createDataFrame(data,columns)"
      ],
      "metadata": {
        "id": "mBX9oLqbU4IK"
      },
      "execution_count": 16,
      "outputs": []
    },
    {
      "cell_type": "markdown",
      "source": [
        "# Visualiza el Dataframe"
      ],
      "metadata": {
        "id": "a5FPiEtFOIOZ"
      }
    },
    {
      "cell_type": "code",
      "source": [
        "df.show()"
      ],
      "metadata": {
        "colab": {
          "base_uri": "https://localhost:8080/"
        },
        "id": "fwITzJH0WTKK",
        "outputId": "42de5aeb-a77b-47e5-a3dc-70c9894c3559"
      },
      "execution_count": 17,
      "outputs": [
        {
          "output_type": "stream",
          "name": "stdout",
          "text": [
            "+--------+----+--------+-----+\n",
            "|  Nombre|Edad|  Ciudad|Saldo|\n",
            "+--------+----+--------+-----+\n",
            "|    luis|  51|  Talara| 5000|\n",
            "|  Andrea|  14|   Piura| 6200|\n",
            "|  Karina|  43|Colombia| 7600|\n",
            "|Patricia|  55|    Supe| 5750|\n",
            "|  Miguel|  37|Trujillo| 2500|\n",
            "|  Andrea|  45|Arequipa| 4500|\n",
            "|  Carlos|  43|Ayacucho|12000|\n",
            "+--------+----+--------+-----+\n",
            "\n"
          ]
        }
      ]
    },
    {
      "cell_type": "code",
      "source": [
        "df.show(2,truncate=2)"
      ],
      "metadata": {
        "colab": {
          "base_uri": "https://localhost:8080/"
        },
        "id": "RGH7QbAbWvnr",
        "outputId": "32cd4fee-f7ce-469e-e4eb-38a30fb471e0"
      },
      "execution_count": 18,
      "outputs": [
        {
          "output_type": "stream",
          "name": "stdout",
          "text": [
            "+------+----+------+-----+\n",
            "|Nombre|Edad|Ciudad|Saldo|\n",
            "+------+----+------+-----+\n",
            "|    lu|  51|    Ta|   50|\n",
            "|    An|  14|    Pi|   62|\n",
            "+------+----+------+-----+\n",
            "only showing top 2 rows\n",
            "\n"
          ]
        }
      ]
    },
    {
      "cell_type": "code",
      "source": [
        "df.show(2,truncate=False,vertical=True)"
      ],
      "metadata": {
        "colab": {
          "base_uri": "https://localhost:8080/"
        },
        "id": "vNkIsCBbW30a",
        "outputId": "601a0b9b-3ef1-4ff3-beb6-5c94acef2b6c"
      },
      "execution_count": 19,
      "outputs": [
        {
          "output_type": "stream",
          "name": "stdout",
          "text": [
            "-RECORD 0--------\n",
            " Nombre | luis   \n",
            " Edad   | 51     \n",
            " Ciudad | Talara \n",
            " Saldo  | 5000   \n",
            "-RECORD 1--------\n",
            " Nombre | Andrea \n",
            " Edad   | 14     \n",
            " Ciudad | Piura  \n",
            " Saldo  | 6200   \n",
            "only showing top 2 rows\n",
            "\n"
          ]
        }
      ]
    },
    {
      "cell_type": "markdown",
      "source": [
        "# Cuenta el número de registros."
      ],
      "metadata": {
        "id": "9xdGEuvuQAJg"
      }
    },
    {
      "cell_type": "code",
      "source": [
        "df.count()"
      ],
      "metadata": {
        "colab": {
          "base_uri": "https://localhost:8080/"
        },
        "id": "sPEZfYHNXF8r",
        "outputId": "f0af5fde-e19e-4107-cd26-fcc9fa814eab"
      },
      "execution_count": 20,
      "outputs": [
        {
          "output_type": "execute_result",
          "data": {
            "text/plain": [
              "7"
            ]
          },
          "metadata": {},
          "execution_count": 20
        }
      ]
    },
    {
      "cell_type": "markdown",
      "source": [
        "# Imprime el formato de sus datos."
      ],
      "metadata": {
        "id": "sAdovYn3QGix"
      }
    },
    {
      "cell_type": "code",
      "source": [
        "df.printSchema()"
      ],
      "metadata": {
        "colab": {
          "base_uri": "https://localhost:8080/"
        },
        "id": "klG_lItXXLg6",
        "outputId": "fb03ad7e-8678-4946-c53f-5cd26610fb40"
      },
      "execution_count": 21,
      "outputs": [
        {
          "output_type": "stream",
          "name": "stdout",
          "text": [
            "root\n",
            " |-- Nombre: string (nullable = true)\n",
            " |-- Edad: long (nullable = true)\n",
            " |-- Ciudad: string (nullable = true)\n",
            " |-- Saldo: long (nullable = true)\n",
            "\n"
          ]
        }
      ]
    },
    {
      "cell_type": "markdown",
      "source": [
        "# Añade una columna nueva.\n",
        "\n",
        "\n"
      ],
      "metadata": {
        "id": "fODG6kXcOI85"
      }
    },
    {
      "cell_type": "code",
      "source": [
        "df1=df.withColumn(\"Profesion\", df.Edad*2 )\n",
        "df1.show()"
      ],
      "metadata": {
        "colab": {
          "base_uri": "https://localhost:8080/"
        },
        "id": "YsN2Us-GRC-p",
        "outputId": "f2feb589-c0cd-4581-b77f-d3a41fb9cf1b"
      },
      "execution_count": 22,
      "outputs": [
        {
          "output_type": "stream",
          "name": "stdout",
          "text": [
            "+--------+----+--------+-----+---------+\n",
            "|  Nombre|Edad|  Ciudad|Saldo|Profesion|\n",
            "+--------+----+--------+-----+---------+\n",
            "|    luis|  51|  Talara| 5000|      102|\n",
            "|  Andrea|  14|   Piura| 6200|       28|\n",
            "|  Karina|  43|Colombia| 7600|       86|\n",
            "|Patricia|  55|    Supe| 5750|      110|\n",
            "|  Miguel|  37|Trujillo| 2500|       74|\n",
            "|  Andrea|  45|Arequipa| 4500|       90|\n",
            "|  Carlos|  43|Ayacucho|12000|       86|\n",
            "+--------+----+--------+-----+---------+\n",
            "\n"
          ]
        }
      ]
    },
    {
      "cell_type": "markdown",
      "source": [
        "# Cambia el nombre a otra columna."
      ],
      "metadata": {
        "id": "qP1Wxq9VWWHa"
      }
    },
    {
      "cell_type": "code",
      "source": [
        "df2=df1.withColumnRenamed(\"Profesion\", \"Oficio\" )\n",
        "df2.show()"
      ],
      "metadata": {
        "colab": {
          "base_uri": "https://localhost:8080/"
        },
        "id": "9Pj7O0ZtUWpK",
        "outputId": "20aebcda-264d-4f9a-e0c1-61516a1dd29c"
      },
      "execution_count": 23,
      "outputs": [
        {
          "output_type": "stream",
          "name": "stdout",
          "text": [
            "+--------+----+--------+-----+------+\n",
            "|  Nombre|Edad|  Ciudad|Saldo|Oficio|\n",
            "+--------+----+--------+-----+------+\n",
            "|    luis|  51|  Talara| 5000|   102|\n",
            "|  Andrea|  14|   Piura| 6200|    28|\n",
            "|  Karina|  43|Colombia| 7600|    86|\n",
            "|Patricia|  55|    Supe| 5750|   110|\n",
            "|  Miguel|  37|Trujillo| 2500|    74|\n",
            "|  Andrea|  45|Arequipa| 4500|    90|\n",
            "|  Carlos|  43|Ayacucho|12000|    86|\n",
            "+--------+----+--------+-----+------+\n",
            "\n"
          ]
        }
      ]
    },
    {
      "cell_type": "markdown",
      "source": [
        "# Filtra el df por un valor que esté en el mismo."
      ],
      "metadata": {
        "id": "59h7ZkJIOKaB"
      }
    },
    {
      "cell_type": "code",
      "source": [
        "df_select=df2.filter(df.Nombre== \"Andrea\")\n",
        "df_select.show()"
      ],
      "metadata": {
        "colab": {
          "base_uri": "https://localhost:8080/"
        },
        "id": "jIfn-ylAWyZj",
        "outputId": "0f81bccb-8c59-4211-f62f-d0dd00ee3839"
      },
      "execution_count": 24,
      "outputs": [
        {
          "output_type": "stream",
          "name": "stdout",
          "text": [
            "+------+----+--------+-----+------+\n",
            "|Nombre|Edad|  Ciudad|Saldo|Oficio|\n",
            "+------+----+--------+-----+------+\n",
            "|Andrea|  14|   Piura| 6200|    28|\n",
            "|Andrea|  45|Arequipa| 4500|    90|\n",
            "+------+----+--------+-----+------+\n",
            "\n"
          ]
        }
      ]
    },
    {
      "cell_type": "markdown",
      "source": [
        "# Muestra únicamente las columnas que nos sirvan para identificar a los clientes."
      ],
      "metadata": {
        "id": "vREODOHOZ7Vf"
      }
    },
    {
      "cell_type": "code",
      "source": [
        "df_select=df2.filter(df.Nombre!= \"\")\n",
        "df_select=df2.filter(df.Edad!= \"\")\n",
        "df_select.show()"
      ],
      "metadata": {
        "colab": {
          "base_uri": "https://localhost:8080/"
        },
        "id": "xZTUJIyTaY4X",
        "outputId": "fd13fae6-114a-487a-da01-a60f9aec62d3"
      },
      "execution_count": 25,
      "outputs": [
        {
          "output_type": "stream",
          "name": "stdout",
          "text": [
            "+------+----+------+-----+------+\n",
            "|Nombre|Edad|Ciudad|Saldo|Oficio|\n",
            "+------+----+------+-----+------+\n",
            "+------+----+------+-----+------+\n",
            "\n"
          ]
        }
      ]
    },
    {
      "cell_type": "markdown",
      "source": [],
      "metadata": {
        "id": "N4wqoNWQWqYT"
      }
    },
    {
      "cell_type": "markdown",
      "source": [
        "# Cambia el nombre a una columna sin usar withColumnRenamed."
      ],
      "metadata": {
        "id": "WiY98WO5aT2A"
      }
    },
    {
      "cell_type": "code",
      "source": [
        "# Cambia el nombre de la columna sin withColumnRenamed\n",
        "df_nuevonombre = df2.selectExpr(\"Nombre as nuevo_nombre\", \"Edad\")\n",
        "df_nuevonombre.show()"
      ],
      "metadata": {
        "id": "rI1VnX6taaIQ",
        "colab": {
          "base_uri": "https://localhost:8080/"
        },
        "outputId": "c56e4c90-4bd9-4e64-d4a4-aeda254e0cc1"
      },
      "execution_count": 26,
      "outputs": [
        {
          "output_type": "stream",
          "name": "stdout",
          "text": [
            "+------------+----+\n",
            "|nuevo_nombre|Edad|\n",
            "+------------+----+\n",
            "|        luis|  51|\n",
            "|      Andrea|  14|\n",
            "|      Karina|  43|\n",
            "|    Patricia|  55|\n",
            "|      Miguel|  37|\n",
            "|      Andrea|  45|\n",
            "|      Carlos|  43|\n",
            "+------------+----+\n",
            "\n"
          ]
        }
      ]
    },
    {
      "cell_type": "markdown",
      "source": [
        "# Saca el cliente con el máximo saldo disponible."
      ],
      "metadata": {
        "id": "wWjccbgzaajX"
      }
    },
    {
      "cell_type": "code",
      "source": [
        "df2.groupBy().max(\"Saldo\")\n",
        "df2.show()"
      ],
      "metadata": {
        "colab": {
          "base_uri": "https://localhost:8080/"
        },
        "id": "KoSFSfusaxIP",
        "outputId": "24f35c81-c45a-4db3-d511-c6ce0fe48447"
      },
      "execution_count": 27,
      "outputs": [
        {
          "output_type": "stream",
          "name": "stdout",
          "text": [
            "+--------+----+--------+-----+------+\n",
            "|  Nombre|Edad|  Ciudad|Saldo|Oficio|\n",
            "+--------+----+--------+-----+------+\n",
            "|    luis|  51|  Talara| 5000|   102|\n",
            "|  Andrea|  14|   Piura| 6200|    28|\n",
            "|  Karina|  43|Colombia| 7600|    86|\n",
            "|Patricia|  55|    Supe| 5750|   110|\n",
            "|  Miguel|  37|Trujillo| 2500|    74|\n",
            "|  Andrea|  45|Arequipa| 4500|    90|\n",
            "|  Carlos|  43|Ayacucho|12000|    86|\n",
            "+--------+----+--------+-----+------+\n",
            "\n"
          ]
        }
      ]
    },
    {
      "cell_type": "markdown",
      "source": [
        "Otro ejemplo"
      ],
      "metadata": {
        "id": "4ujQUQg6QWvp"
      }
    },
    {
      "cell_type": "code",
      "source": [
        "df2.where(df2.Saldo == 3)\n",
        "df2.show()"
      ],
      "metadata": {
        "colab": {
          "base_uri": "https://localhost:8080/"
        },
        "id": "12M6RTNWQXI_",
        "outputId": "35d9faaa-5fea-49ea-cc57-b39e697134aa"
      },
      "execution_count": 29,
      "outputs": [
        {
          "output_type": "stream",
          "name": "stdout",
          "text": [
            "+--------+----+--------+-----+------+\n",
            "|  Nombre|Edad|  Ciudad|Saldo|Oficio|\n",
            "+--------+----+--------+-----+------+\n",
            "|    luis|  51|  Talara| 5000|   102|\n",
            "|  Andrea|  14|   Piura| 6200|    28|\n",
            "|  Karina|  43|Colombia| 7600|    86|\n",
            "|Patricia|  55|    Supe| 5750|   110|\n",
            "|  Miguel|  37|Trujillo| 2500|    74|\n",
            "|  Andrea|  45|Arequipa| 4500|    90|\n",
            "|  Carlos|  43|Ayacucho|12000|    86|\n",
            "+--------+----+--------+-----+------+\n",
            "\n"
          ]
        }
      ]
    },
    {
      "cell_type": "markdown",
      "source": [
        "Muestra los registros únicos.\n"
      ],
      "metadata": {
        "id": "wB83pSq4bE0P"
      }
    },
    {
      "cell_type": "code",
      "source": [
        "# Muestra los registros únicos\n",
        "df_unicos = df2.distinct()\n",
        "\n",
        "# Muestra el DataFrame resultante\n",
        "df_unicos.show()"
      ],
      "metadata": {
        "colab": {
          "base_uri": "https://localhost:8080/"
        },
        "id": "tBfLNQMTbITv",
        "outputId": "0d75e701-2b3c-4a6a-fb8e-f5ede39e2d97"
      },
      "execution_count": 30,
      "outputs": [
        {
          "output_type": "stream",
          "name": "stdout",
          "text": [
            "+--------+----+--------+-----+------+\n",
            "|  Nombre|Edad|  Ciudad|Saldo|Oficio|\n",
            "+--------+----+--------+-----+------+\n",
            "|Patricia|  55|    Supe| 5750|   110|\n",
            "|    luis|  51|  Talara| 5000|   102|\n",
            "|  Karina|  43|Colombia| 7600|    86|\n",
            "|  Andrea|  45|Arequipa| 4500|    90|\n",
            "|  Miguel|  37|Trujillo| 2500|    74|\n",
            "|  Carlos|  43|Ayacucho|12000|    86|\n",
            "|  Andrea|  14|   Piura| 6200|    28|\n",
            "+--------+----+--------+-----+------+\n",
            "\n"
          ]
        }
      ]
    },
    {
      "cell_type": "markdown",
      "source": [
        "\n",
        "Crea otro dataframe productos (con su precio) y muestra qué producto se puede permitir cada cliente"
      ],
      "metadata": {
        "id": "qjs8qWrObJcO"
      }
    },
    {
      "cell_type": "code",
      "source": [
        "from pyspark.sql import SparkSession\n",
        "from pyspark.sql.functions import col\n",
        "\n",
        "# Inicializa la sesión de Spark\n",
        "spark = SparkSession.builder.appName(\"example\").getOrCreate()\n",
        "\n",
        "# Crea el DataFrame de clientes\n",
        "data_clientes = [(\"Cliente1\", 1000),\n",
        "                 (\"Cliente2\", 1500),\n",
        "                 (\"Cliente3\", 1200)]\n",
        "\n",
        "columns_clientes = [\"Nombre\", \"Saldo\"]\n",
        "df_clientes = spark.createDataFrame(data_clientes, columns_clientes)\n",
        "\n",
        "# Crea el DataFrame de productos con sus precios\n",
        "data_productos = [(\"Producto1\", 500),\n",
        "                  (\"Producto2\", 1000),\n",
        "                  (\"Producto3\", 800)]\n",
        "\n",
        "columns_productos = [\"Producto\", \"Precio\"]\n",
        "df_productos = spark.createDataFrame(data_productos, columns_productos)\n",
        "\n",
        "# Realiza la unión (join) entre los DataFrames en función del saldo disponible\n",
        "df_resultado = df_clientes.crossJoin(df_productos)\n",
        "\n",
        "# Filtra los productos que el cliente puede permitirse\n",
        "df_resultado = df_resultado.filter(col(\"Saldo\") >= col(\"Precio\"))\n",
        "\n",
        "# Muestra el resultado\n",
        "df_resultado.show()"
      ],
      "metadata": {
        "colab": {
          "base_uri": "https://localhost:8080/"
        },
        "id": "WHTc7CX4cHpX",
        "outputId": "6a06c452-fb9a-47f7-9414-2be0a1fe385b"
      },
      "execution_count": 31,
      "outputs": [
        {
          "output_type": "stream",
          "name": "stdout",
          "text": [
            "+--------+-----+---------+------+\n",
            "|  Nombre|Saldo| Producto|Precio|\n",
            "+--------+-----+---------+------+\n",
            "|Cliente1| 1000|Producto1|   500|\n",
            "|Cliente1| 1000|Producto2|  1000|\n",
            "|Cliente1| 1000|Producto3|   800|\n",
            "|Cliente2| 1500|Producto1|   500|\n",
            "|Cliente3| 1200|Producto1|   500|\n",
            "|Cliente2| 1500|Producto2|  1000|\n",
            "|Cliente2| 1500|Producto3|   800|\n",
            "|Cliente3| 1200|Producto2|  1000|\n",
            "|Cliente3| 1200|Producto3|   800|\n",
            "+--------+-----+---------+------+\n",
            "\n"
          ]
        }
      ]
    },
    {
      "cell_type": "code",
      "source": [
        "data_clientes.join(data_productos, col(\"data_clientes.col1\")>=col(\"data_productos.col1\"), 'inner')"
      ],
      "metadata": {
        "colab": {
          "base_uri": "https://localhost:8080/",
          "height": 175
        },
        "id": "BX4LzSPXYmk3",
        "outputId": "1f3480d7-958e-4430-9bc9-5464c539c2d2"
      },
      "execution_count": 34,
      "outputs": [
        {
          "output_type": "error",
          "ename": "AttributeError",
          "evalue": "ignored",
          "traceback": [
            "\u001b[0;31m---------------------------------------------------------------------------\u001b[0m",
            "\u001b[0;31mAttributeError\u001b[0m                            Traceback (most recent call last)",
            "\u001b[0;32m<ipython-input-34-ffc1282fd014>\u001b[0m in \u001b[0;36m<cell line: 1>\u001b[0;34m()\u001b[0m\n\u001b[0;32m----> 1\u001b[0;31m \u001b[0mdata_clientes\u001b[0m\u001b[0;34m.\u001b[0m\u001b[0mjoin\u001b[0m\u001b[0;34m(\u001b[0m\u001b[0mdata_productos\u001b[0m\u001b[0;34m,\u001b[0m \u001b[0mcol\u001b[0m\u001b[0;34m(\u001b[0m\u001b[0;34m\"data_clientes.col1\"\u001b[0m\u001b[0;34m)\u001b[0m\u001b[0;34m>=\u001b[0m\u001b[0mcol\u001b[0m\u001b[0;34m(\u001b[0m\u001b[0;34m\"data_productos.col1\"\u001b[0m\u001b[0;34m)\u001b[0m\u001b[0;34m,\u001b[0m \u001b[0;34m'inner'\u001b[0m\u001b[0;34m)\u001b[0m\u001b[0;34m\u001b[0m\u001b[0;34m\u001b[0m\u001b[0m\n\u001b[0m",
            "\u001b[0;31mAttributeError\u001b[0m: 'list' object has no attribute 'join'"
          ]
        }
      ]
    },
    {
      "cell_type": "code",
      "source": [
        "from pyspark.sql.functions import col\n",
        "from pyspark.sql import Row\n",
        "from pyspark.sql import functions as F"
      ],
      "metadata": {
        "id": "cHftVjneOyT1"
      },
      "execution_count": 36,
      "outputs": []
    },
    {
      "cell_type": "code",
      "source": [
        "data_cantantes = [\n",
        "Row(cantante_id=1, nombre_cantante='Adele', genero='Pop'),\n",
        "Row(cantante_id=2, nombre_cantante='Ed Sheeran', genero='Pop'),\n",
        "Row(cantante_id=3, nombre_cantante='Beyoncé', genero='R&B'),\n",
        "Row(cantante_id=4, nombre_cantante='Taylor Swift', genero='Pop'),\n",
        "Row(cantante_id=5, nombre_cantante='Drake', genero='Hip Hop'),\n",
        "Row(cantante_id=6, nombre_cantante='BTS', genero='Kpop'),\n",
        "]"
      ],
      "metadata": {
        "id": "W4pmYUXAPvjc"
      },
      "execution_count": 41,
      "outputs": []
    },
    {
      "cell_type": "code",
      "source": [
        "data_canciones = [\n",
        "Row(cantante_id=1, cancion_id=101, nombre_cancion='Hello', duracion_seg=300),\n",
        "Row(cantante_id=1, cancion_id=102, nombre_cancion='Rolling in the Deep', duracion_seg=240),\n",
        "Row(cantante_id=2, cancion_id=103, nombre_cancion='Shape of You', duracion_seg=210),\n",
        "Row(cantante_id=2, cancion_id=104, nombre_cancion='Photograph', duracion_seg=180),\n",
        "Row(cantante_id=3, cancion_id=105, nombre_cancion='Single Ladies', duracion_seg=220),\n",
        "Row(cantante_id=4, cancion_id=106, nombre_cancion='Blank Space', duracion_seg=260),\n",
        "Row(cantante_id=5, cancion_id=107, nombre_cancion='Hotline Bling', duracion_seg=195),\n",
        "Row(cantante_id=5, cancion_id=108, nombre_cancion='In My Feelings', duracion_seg=210),\n",
        "Row(cantante_id=2, cancion_id=109, nombre_cancion='Thinking Out Loud', duracion_seg=230),\n",
        "Row(cantante_id=2, cancion_id=109, nombre_cancion='Thinking Out Loud', duracion_seg=230),\n",
        "Row(cantante_id=4, cancion_id=101, nombre_cancion='Hello', duracion_seg=300),\n",
        "]"
      ],
      "metadata": {
        "id": "3cvucAmHNpKe"
      },
      "execution_count": 42,
      "outputs": []
    },
    {
      "cell_type": "code",
      "source": [
        "# Crear DataFrames a partir de los datos\n",
        "df_cantantes = spark.createDataFrame(data_cantantes)\n",
        "df_canciones = spark.createDataFrame(data_canciones)"
      ],
      "metadata": {
        "id": "NGBqEOI6Ppsl"
      },
      "execution_count": 43,
      "outputs": []
    },
    {
      "cell_type": "code",
      "source": [
        "# 1. ¿Cuál es el nombre de los cantantes y la duración de sus canciones?\n",
        "\n",
        "Cantantes=df_cantantes.join(df_canciones,\"cantante_id\",\"inner\").show()\n",
        "Cantantes"
      ],
      "metadata": {
        "colab": {
          "base_uri": "https://localhost:8080/"
        },
        "id": "ijmwbi9uQCm1",
        "outputId": "a304e1e0-d268-4542-93ce-395b7264cab5"
      },
      "execution_count": 25,
      "outputs": [
        {
          "output_type": "stream",
          "name": "stdout",
          "text": [
            "+-----------+---------------+-------+----------+-------------------+------------+\n",
            "|cantante_id|nombre_cantante| genero|cancion_id|     nombre_cancion|duracion_seg|\n",
            "+-----------+---------------+-------+----------+-------------------+------------+\n",
            "|          5|          Drake|Hip Hop|       107|      Hotline Bling|         195|\n",
            "|          5|          Drake|Hip Hop|       108|     In My Feelings|         210|\n",
            "|          1|          Adele|    Pop|       101|              Hello|         300|\n",
            "|          1|          Adele|    Pop|       102|Rolling in the Deep|         240|\n",
            "|          3|        Beyoncé|    R&B|       105|      Single Ladies|         220|\n",
            "|          2|     Ed Sheeran|    Pop|       103|       Shape of You|         210|\n",
            "|          2|     Ed Sheeran|    Pop|       104|         Photograph|         180|\n",
            "|          2|     Ed Sheeran|    Pop|       109|  Thinking Out Loud|         230|\n",
            "|          2|     Ed Sheeran|    Pop|       109|  Thinking Out Loud|         230|\n",
            "|          4|   Taylor Swift|    Pop|       106|        Blank Space|         260|\n",
            "|          4|   Taylor Swift|    Pop|       101|              Hello|         300|\n",
            "+-----------+---------------+-------+----------+-------------------+------------+\n",
            "\n"
          ]
        }
      ]
    },
    {
      "cell_type": "code",
      "source": [
        "cantante_duracion=df_cantantes.join(df_canciones,\"cantante_id\",\"inner\").select(\"nombre_cantante\",\"nombre_cancion\",\"duracion_seg\")\n",
        "cantante_duracion.show()"
      ],
      "metadata": {
        "colab": {
          "base_uri": "https://localhost:8080/"
        },
        "id": "7PLWEurVTg7l",
        "outputId": "d905646a-b8aa-4433-a8fd-0110011bfd25"
      },
      "execution_count": 46,
      "outputs": [
        {
          "output_type": "stream",
          "name": "stdout",
          "text": [
            "+---------------+-------------------+------------+\n",
            "|nombre_cantante|     nombre_cancion|duracion_seg|\n",
            "+---------------+-------------------+------------+\n",
            "|          Drake|      Hotline Bling|         195|\n",
            "|          Drake|     In My Feelings|         210|\n",
            "|          Adele|              Hello|         300|\n",
            "|          Adele|Rolling in the Deep|         240|\n",
            "|        Beyoncé|      Single Ladies|         220|\n",
            "|     Ed Sheeran|       Shape of You|         210|\n",
            "|     Ed Sheeran|         Photograph|         180|\n",
            "|     Ed Sheeran|  Thinking Out Loud|         230|\n",
            "|     Ed Sheeran|  Thinking Out Loud|         230|\n",
            "|   Taylor Swift|        Blank Space|         260|\n",
            "|   Taylor Swift|              Hello|         300|\n",
            "+---------------+-------------------+------------+\n",
            "\n"
          ]
        }
      ]
    },
    {
      "cell_type": "code",
      "source": [
        "#otra forma\n",
        "df_cantantes.join(df_canciones, on='cantante_id').select('nombre_cantante', 'nombre_cancion', 'duracion_seg').show()"
      ],
      "metadata": {
        "colab": {
          "base_uri": "https://localhost:8080/"
        },
        "id": "WaCvcmR5-2RL",
        "outputId": "0b8354d2-43ff-443f-9adb-fc06001bd90a"
      },
      "execution_count": 44,
      "outputs": [
        {
          "output_type": "stream",
          "name": "stdout",
          "text": [
            "+---------------+-------------------+------------+\n",
            "|nombre_cantante|     nombre_cancion|duracion_seg|\n",
            "+---------------+-------------------+------------+\n",
            "|          Drake|      Hotline Bling|         195|\n",
            "|          Drake|     In My Feelings|         210|\n",
            "|          Adele|              Hello|         300|\n",
            "|          Adele|Rolling in the Deep|         240|\n",
            "|        Beyoncé|      Single Ladies|         220|\n",
            "|     Ed Sheeran|       Shape of You|         210|\n",
            "|     Ed Sheeran|         Photograph|         180|\n",
            "|     Ed Sheeran|  Thinking Out Loud|         230|\n",
            "|     Ed Sheeran|  Thinking Out Loud|         230|\n",
            "|   Taylor Swift|        Blank Space|         260|\n",
            "|   Taylor Swift|              Hello|         300|\n",
            "+---------------+-------------------+------------+\n",
            "\n"
          ]
        }
      ]
    },
    {
      "cell_type": "markdown",
      "source": [
        "2.¿Cuál es la duración total de todas las canciones?"
      ],
      "metadata": {
        "id": "hFT0mxMHama1"
      }
    },
    {
      "cell_type": "code",
      "source": [
        "duracion2= cantante_duracion.agg(F.sum(F.col(\"duracion_seg\")))\n",
        "duracion2.show()"
      ],
      "metadata": {
        "colab": {
          "base_uri": "https://localhost:8080/"
        },
        "id": "_BbGObQ3XyaX",
        "outputId": "07896820-8052-46b9-9e7d-0c04389f486d"
      },
      "execution_count": 54,
      "outputs": [
        {
          "output_type": "stream",
          "name": "stdout",
          "text": [
            "+-----------------+\n",
            "|sum(duracion_seg)|\n",
            "+-----------------+\n",
            "|             2575|\n",
            "+-----------------+\n",
            "\n"
          ]
        }
      ]
    },
    {
      "cell_type": "code",
      "source": [
        "#otra forma\n",
        "total_duration = df_canciones.selectExpr('sum(duracion_seg) as duracion_total').collect()[0]['duracion_total']\n",
        "print(f'La duración total de todas las canciones: {total_duration} segundos')"
      ],
      "metadata": {
        "colab": {
          "base_uri": "https://localhost:8080/"
        },
        "id": "frGyi8rk_oTr",
        "outputId": "facc9384-0b82-4bf9-85b4-0813c57c7aa2"
      },
      "execution_count": 46,
      "outputs": [
        {
          "output_type": "stream",
          "name": "stdout",
          "text": [
            "La duración total de todas las canciones: 2575 segundos\n"
          ]
        }
      ]
    },
    {
      "cell_type": "markdown",
      "source": [],
      "metadata": {
        "id": "a9u07ATyXKVE"
      }
    },
    {
      "cell_type": "code",
      "source": [
        "#Para ver el país con mayor número de medallas:\n",
        "num_cancion=cantante_duracion.groupBy().agg(F.sum(\"duracion_seg\"))\n",
        "\n",
        "num_cancion.show()"
      ],
      "metadata": {
        "colab": {
          "base_uri": "https://localhost:8080/",
          "height": 227
        },
        "id": "ZlVyt-ktZV0d",
        "outputId": "19ea30ef-040d-4e8a-d5cd-3265e43e4f61"
      },
      "execution_count": 3,
      "outputs": [
        {
          "output_type": "error",
          "ename": "NameError",
          "evalue": "ignored",
          "traceback": [
            "\u001b[0;31m---------------------------------------------------------------------------\u001b[0m",
            "\u001b[0;31mNameError\u001b[0m                                 Traceback (most recent call last)",
            "\u001b[0;32m<ipython-input-3-71f3a8ed2168>\u001b[0m in \u001b[0;36m<cell line: 2>\u001b[0;34m()\u001b[0m\n\u001b[1;32m      1\u001b[0m \u001b[0;31m#Para ver el país con mayor número de medallas:\u001b[0m\u001b[0;34m\u001b[0m\u001b[0;34m\u001b[0m\u001b[0m\n\u001b[0;32m----> 2\u001b[0;31m \u001b[0mnum_cancion\u001b[0m\u001b[0;34m=\u001b[0m\u001b[0mcantante_duracion\u001b[0m\u001b[0;34m.\u001b[0m\u001b[0mgroupBy\u001b[0m\u001b[0;34m(\u001b[0m\u001b[0;34m)\u001b[0m\u001b[0;34m.\u001b[0m\u001b[0magg\u001b[0m\u001b[0;34m(\u001b[0m\u001b[0mF\u001b[0m\u001b[0;34m.\u001b[0m\u001b[0msum\u001b[0m\u001b[0;34m(\u001b[0m\u001b[0;34m\"duracion_seg\"\u001b[0m\u001b[0;34m)\u001b[0m\u001b[0;34m)\u001b[0m\u001b[0;34m\u001b[0m\u001b[0;34m\u001b[0m\u001b[0m\n\u001b[0m\u001b[1;32m      3\u001b[0m \u001b[0;34m\u001b[0m\u001b[0m\n\u001b[1;32m      4\u001b[0m \u001b[0mnum_cancion\u001b[0m\u001b[0;34m.\u001b[0m\u001b[0mshow\u001b[0m\u001b[0;34m(\u001b[0m\u001b[0;34m)\u001b[0m\u001b[0;34m\u001b[0m\u001b[0;34m\u001b[0m\u001b[0m\n",
            "\u001b[0;31mNameError\u001b[0m: name 'cantante_duracion' is not defined"
          ]
        }
      ]
    },
    {
      "cell_type": "markdown",
      "source": [
        "3.\n",
        "¿Cuántas canciones tiene cada cantante?"
      ],
      "metadata": {
        "id": "NuQII5m8auX8"
      }
    },
    {
      "cell_type": "code",
      "source": [
        "num_cancion=cantante_duracion.groupBy(\"nombre_cantante\").agg(F.count(\"nombre_cancion\"))\n",
        "num_cancion.show()"
      ],
      "metadata": {
        "colab": {
          "base_uri": "https://localhost:8080/",
          "height": 193
        },
        "id": "9j8gDLv7a3pE",
        "outputId": "10a6a83c-afc7-41cc-d567-b450e6ed8861"
      },
      "execution_count": 2,
      "outputs": [
        {
          "output_type": "error",
          "ename": "NameError",
          "evalue": "ignored",
          "traceback": [
            "\u001b[0;31m---------------------------------------------------------------------------\u001b[0m",
            "\u001b[0;31mNameError\u001b[0m                                 Traceback (most recent call last)",
            "\u001b[0;32m<ipython-input-2-14e390c8bddb>\u001b[0m in \u001b[0;36m<cell line: 1>\u001b[0;34m()\u001b[0m\n\u001b[0;32m----> 1\u001b[0;31m \u001b[0mnum_cancion\u001b[0m\u001b[0;34m=\u001b[0m\u001b[0mcantante_duracion\u001b[0m\u001b[0;34m.\u001b[0m\u001b[0mgroupBy\u001b[0m\u001b[0;34m(\u001b[0m\u001b[0;34m\"nombre_cantante\"\u001b[0m\u001b[0;34m)\u001b[0m\u001b[0;34m.\u001b[0m\u001b[0magg\u001b[0m\u001b[0;34m(\u001b[0m\u001b[0mF\u001b[0m\u001b[0;34m.\u001b[0m\u001b[0mcount\u001b[0m\u001b[0;34m(\u001b[0m\u001b[0;34m\"nombre_cancion\"\u001b[0m\u001b[0;34m)\u001b[0m\u001b[0;34m)\u001b[0m\u001b[0;34m\u001b[0m\u001b[0;34m\u001b[0m\u001b[0m\n\u001b[0m\u001b[1;32m      2\u001b[0m \u001b[0mnum_cancion\u001b[0m\u001b[0;34m.\u001b[0m\u001b[0mshow\u001b[0m\u001b[0;34m(\u001b[0m\u001b[0;34m)\u001b[0m\u001b[0;34m\u001b[0m\u001b[0;34m\u001b[0m\u001b[0m\n",
            "\u001b[0;31mNameError\u001b[0m: name 'cantante_duracion' is not defined"
          ]
        }
      ]
    },
    {
      "cell_type": "markdown",
      "source": [
        "4.\n",
        "¿Cuál es la canción más larga de cada cantante?"
      ],
      "metadata": {
        "id": "wDZDRyXodIMd"
      }
    },
    {
      "cell_type": "code",
      "source": [
        "from pyspark.sql.window import Window\n",
        "from pyspark.sql import functions as F\n",
        "from pyspark.sql.functions import max\n",
        "\n",
        "ventana_por_cantante=Window.partitionBy(\"cantante_id\")\n",
        "\n",
        "solucion4 = data_canciones.withColumn(\"duracion_maxima\", max(\"duracion_seg\").over(ventana_por_cantante)) \\\n",
        "                          .filter(col(\"duracion_seg\")==col(\"duracion_maxima\"))\\\n",
        "                          .drop(\"duracion_maxima\")\n",
        "\n",
        "solucion4.show()"
      ],
      "metadata": {
        "colab": {
          "base_uri": "https://localhost:8080/",
          "height": 383
        },
        "id": "BViv5YNadJC9",
        "outputId": "3844c146-6430-45db-e7a2-358c4dd65594"
      },
      "execution_count": 1,
      "outputs": [
        {
          "output_type": "error",
          "ename": "ModuleNotFoundError",
          "evalue": "ignored",
          "traceback": [
            "\u001b[0;31m---------------------------------------------------------------------------\u001b[0m",
            "\u001b[0;31mModuleNotFoundError\u001b[0m                       Traceback (most recent call last)",
            "\u001b[0;32m<ipython-input-1-0304ca2f5933>\u001b[0m in \u001b[0;36m<cell line: 1>\u001b[0;34m()\u001b[0m\n\u001b[0;32m----> 1\u001b[0;31m \u001b[0;32mfrom\u001b[0m \u001b[0mpyspark\u001b[0m\u001b[0;34m.\u001b[0m\u001b[0msql\u001b[0m\u001b[0;34m.\u001b[0m\u001b[0mwindow\u001b[0m \u001b[0;32mimport\u001b[0m \u001b[0mWindow\u001b[0m\u001b[0;34m\u001b[0m\u001b[0;34m\u001b[0m\u001b[0m\n\u001b[0m\u001b[1;32m      2\u001b[0m \u001b[0;32mfrom\u001b[0m \u001b[0mpyspark\u001b[0m\u001b[0;34m.\u001b[0m\u001b[0msql\u001b[0m \u001b[0;32mimport\u001b[0m \u001b[0mfunctions\u001b[0m \u001b[0;32mas\u001b[0m \u001b[0mF\u001b[0m\u001b[0;34m\u001b[0m\u001b[0;34m\u001b[0m\u001b[0m\n\u001b[1;32m      3\u001b[0m \u001b[0;32mfrom\u001b[0m \u001b[0mpyspark\u001b[0m\u001b[0;34m.\u001b[0m\u001b[0msql\u001b[0m\u001b[0;34m.\u001b[0m\u001b[0mfunctions\u001b[0m \u001b[0;32mimport\u001b[0m \u001b[0mmax\u001b[0m\u001b[0;34m\u001b[0m\u001b[0;34m\u001b[0m\u001b[0m\n\u001b[1;32m      4\u001b[0m \u001b[0;34m\u001b[0m\u001b[0m\n\u001b[1;32m      5\u001b[0m \u001b[0mventana_por_cantante\u001b[0m\u001b[0;34m=\u001b[0m\u001b[0mWindow\u001b[0m\u001b[0;34m.\u001b[0m\u001b[0mpartitionBy\u001b[0m\u001b[0;34m(\u001b[0m\u001b[0;34m\"cantante_id\"\u001b[0m\u001b[0;34m)\u001b[0m\u001b[0;34m\u001b[0m\u001b[0;34m\u001b[0m\u001b[0m\n",
            "\u001b[0;31mModuleNotFoundError\u001b[0m: No module named 'pyspark'",
            "",
            "\u001b[0;31m---------------------------------------------------------------------------\u001b[0;32m\nNOTE: If your import is failing due to a missing package, you can\nmanually install dependencies using either !pip or !apt.\n\nTo view examples of installing some common dependencies, click the\n\"Open Examples\" button below.\n\u001b[0;31m---------------------------------------------------------------------------\u001b[0m\n"
          ],
          "errorDetails": {
            "actions": [
              {
                "action": "open_url",
                "actionText": "Open Examples",
                "url": "/notebooks/snippets/importing_libraries.ipynb"
              }
            ]
          }
        }
      ]
    },
    {
      "cell_type": "code",
      "source": [],
      "metadata": {
        "id": "txF2khRHeDRt"
      },
      "execution_count": null,
      "outputs": []
    }
  ]
}